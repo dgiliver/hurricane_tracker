{
 "cells": [
  {
   "cell_type": "markdown",
   "metadata": {},
   "source": [
    "1. $\\vec{\\Omega} := \\Omega * \\hat{\\Omega}  $\n",
    "\n",
    "2. $\\vec{S} = \\overline{AB} \\Delta \\Theta = \\overline{AB} \\Omega \\Delta t  $\n",
    "\n",
    "3. $\\overline{OA} = proj_{\\vec{\\Omega}} \\vec{r(t)} = \\frac{\\vec{\\Omega} \\cdot \\vec{r(t)}}{|\\vec{\\Omega}|} = \\hat{\\Omega} \\cdot \\vec{r(t)}  $\n",
    "\n",
    "4. $|\\overline{OA}|^2 + |\\overline{AB}|^2 = |\\vec{r(t)}|^2 \\implies \\overline{AB}^2 = |\\vec{r(t)}|^2 - (\\hat{\\Omega} \\cdot \\vec{r(t)})^2  $\n",
    "\n",
    "5. $|\\hat{\\Omega}| = 1 \\implies \\vec{r(t)}^2 = |\\hat{\\Omega}|^2 * |\\vec{r(t)}|^2$"
   ]
  },
  {
   "cell_type": "markdown",
   "metadata": {},
   "source": [
    "Thus\n",
    "\n",
    "\n",
    "6. $\\overline{AB}^2 = |\\hat{\\Omega}|^2 * |\\vec{r(t)}|^2 - (\\hat{\\Omega} \\cdot \\vec{r(t)})^2$\n",
    "\n"
   ]
  },
  {
   "cell_type": "markdown",
   "metadata": {},
   "source": [
    "Lemma: I claim that\n",
    "\n",
    "    \n",
    "$|\\vec{a} \\cdot \\vec{b}|^2 + |\\vec{a} \\times \\vec{b}|^2 = |\\vec{a}|^2 |\\vec{b}|^2  $\n",
    "\n",
    "By definition,\n",
    "\n",
    "$\\vec{a} \\cdot \\vec{b} := |\\vec{a}||\\vec{b}| \\cos \\Theta  $\n",
    "\n",
    "$\\vec{a} \\times \\vec{b} := |\\vec{a}||\\vec{b}| \\sin \\Theta  $\n",
    "\n",
    "Then\n",
    "\n",
    "$|\\vec{a} \\cdot \\vec{b}|^2 + |\\vec{a} \\times \\vec{b}|^2 = |\\vec{a}|^2 |\\vec{b}|^2 (\\sin ^2 \\Theta + \\cos ^2 \\Theta) = |\\vec{a}|^2 |\\vec{b}|^2$"
   ]
  },
  {
   "cell_type": "markdown",
   "metadata": {},
   "source": [
    "Rewriting 6, we have\n",
    "\n",
    "7. $\\overline{AB}^2 = |\\hat{\\Omega}|^2 * |\\vec{r(t)}|^2 - (\\hat{\\Omega} \\cdot \\vec{r(t)})^2 = |\\hat{\\Omega} \\times \\vec{r(t)}|^2$"
   ]
  },
  {
   "cell_type": "markdown",
   "metadata": {},
   "source": [
    "Then the change in position from one time to the next, or the vector $\\vec{S}$, can be written as follows.\n",
    "\n",
    "8. $|\\vec{S}| = |\\overline{AB}| \\Omega \\Delta t = |\\hat{\\Omega} \\times \\vec{r(t)}| \\Omega \\Delta t = |\\vec{\\Omega} \\times \\vec{r(t)}| \\Delta t$"
   ]
  },
  {
   "cell_type": "markdown",
   "metadata": {},
   "source": [
    "If we move $\\Delta t$ to the other side, it starts to look like the change in position over time. Thus, taking $\\Delta t$ to 0, we have\n",
    "\n",
    "$\\frac{d \\vec{r}}{dt} = \\vec{\\Omega} \\times \\vec{r(t)}  $\n",
    "\n",
    "This equality only holds true in the outside reference frame. If we are rotating with $r$, then there would appear to be no change in position over time. Thus\n",
    "\n",
    "$\\frac{d \\vec{r}}{dt} = 0$ in the rotational frame. From now on, I subscript rotational frame terms with 'r' and inertial frame terms with 'in'.\n",
    "\n",
    "This leads us to\n",
    "\n",
    "9. $\\frac{d \\vec{r}}{dt}_{in} = \\frac{d \\vec{r}}{dt}_r + \\vec{\\Omega} \\times \\vec{r(t)}  $\n",
    "\n",
    "or $\\vec{v_{in}} = \\vec{v_{r}} + \\vec{\\Omega} \\times \\vec{r(t)}$"
   ]
  },
  {
   "cell_type": "markdown",
   "metadata": {},
   "source": [
    "Now, we want to apply the same time derivative, $\\frac{d}{dt}_{in} = \\frac{d}{dt}_r + \\vec{\\Omega} \\times$, to the velocity term to get an acceleration"
   ]
  },
  {
   "cell_type": "markdown",
   "metadata": {},
   "source": [
    "$\\frac{dv_{in}}{dt}_{in} = \\frac{dv_{in}}{dt}_r + \\vec{\\Omega} \\times v_{in} = \\frac{d(v_r + \\vec{\\Omega} \\times \\vec{r(t)})}{dt}_r + \\vec{\\Omega} \\times (v_r + \\vec{\\Omega} \\times \\vec{r(t)}  $\n",
    "\n",
    "$= \\frac{d v_r}{dt}_r + \\vec{\\Omega} \\times \\frac{dr}{dt}_r + \\vec{\\Omega} \\times v_r + \\vec{\\Omega} \\times \\vec{\\Omega} \\times \\vec{r(t)}  $\n",
    "\n",
    "And since $\\frac{dr}{dt}_r = v_r$, the two middle terms are the same:\n",
    "\n",
    "$= \\frac{d v_r}{dt}_r + 2 (\\vec{\\Omega} \\times v_r) + \\vec{\\Omega} \\times \\vec{\\Omega} \\times \\vec{r(t)} $"
   ]
  },
  {
   "cell_type": "markdown",
   "metadata": {},
   "source": [
    "Rearranging the terms, we have \n",
    "\n",
    "$\\frac{d v_r}{dt}_r = \\frac{dv_{in}}{dt}_{in} - 2 (\\vec{\\Omega} \\times v_r) - \\vec{\\Omega} \\times \\vec{\\Omega} \\times \\vec{r(t)}$"
   ]
  }
 ],
 "metadata": {
  "kernelspec": {
   "display_name": "Python 3",
   "language": "python",
   "name": "python3"
  },
  "language_info": {
   "codemirror_mode": {
    "name": "ipython",
    "version": 3
   },
   "file_extension": ".py",
   "mimetype": "text/x-python",
   "name": "python",
   "nbconvert_exporter": "python",
   "pygments_lexer": "ipython3",
   "version": "3.7.7"
  }
 },
 "nbformat": 4,
 "nbformat_minor": 4
}
